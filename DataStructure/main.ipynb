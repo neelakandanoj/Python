{
 "cells": [
  {
   "cell_type": "markdown",
   "metadata": {},
   "source": [
    "# **Array**"
   ]
  },
  {
   "cell_type": "code",
   "execution_count": 1,
   "metadata": {},
   "outputs": [
    {
     "name": "stdout",
     "output_type": "stream",
     "text": [
      "b\n"
     ]
    }
   ],
   "source": [
    "# Array\n",
    "\n",
    "import array as ar\n",
    "arr=ar.array('i',[1,2,3,4,5]) #int\n",
    "arr1=ar.array('f',[1,2,3.4,4])  # float\n",
    "arr2=ar.array('u',['a','b','c']) #char\n",
    "print(arr2[1])"
   ]
  },
  {
   "cell_type": "code",
   "execution_count": null,
   "metadata": {},
   "outputs": [],
   "source": [
    "#Acessing\n",
    "arr=ar.array('i',[1,2,3,4,5])\n",
    "print(f\"Accesing element {arr[4]}\")"
   ]
  },
  {
   "cell_type": "code",
   "execution_count": 2,
   "metadata": {},
   "outputs": [
    {
     "name": "stdout",
     "output_type": "stream",
     "text": [
      "Inserting element array('i', [9, 1, 2, 3, 4, 5])\n"
     ]
    }
   ],
   "source": [
    "#Inserting\n",
    "arr=ar.array('i',[1,2,3,4,5])\n",
    "arr.insert(0,9)\n",
    "print(f\"Inserting element {arr}\")"
   ]
  },
  {
   "cell_type": "code",
   "execution_count": 3,
   "metadata": {},
   "outputs": [
    {
     "name": "stdout",
     "output_type": "stream",
     "text": [
      "Pop array('i', [1, 2, 3, 5])\n"
     ]
    }
   ],
   "source": [
    "#Popping[index] \n",
    "arr=ar.array('i',[1,2,3,4,5])\n",
    "arr.pop(3)\n",
    "print(\"Pop\",arr)"
   ]
  },
  {
   "cell_type": "code",
   "execution_count": 4,
   "metadata": {},
   "outputs": [
    {
     "name": "stdout",
     "output_type": "stream",
     "text": [
      "Element 3 is finded in index of 7\n"
     ]
    }
   ],
   "source": [
    "#Searching index of the elements\n",
    "arr=ar.array('i',[7,2,1,55,44,2,1,3])\n",
    "find=3\n",
    "for i in range(0,len(arr)):\n",
    "    if arr[i]==find:\n",
    "        print(f\"Element {find} is finded in index of {arr.index(find)}\")\n"
   ]
  },
  {
   "cell_type": "markdown",
   "metadata": {},
   "source": [
    "# **Linear Search**"
   ]
  },
  {
   "cell_type": "code",
   "execution_count": 10,
   "metadata": {},
   "outputs": [
    {
     "name": "stdout",
     "output_type": "stream",
     "text": [
      "Item 9 is in the index of 5\n"
     ]
    }
   ],
   "source": [
    "array=[3,2,4,1,4,9,0]\n",
    "find=9\n",
    "for i in range(0,len(array)):\n",
    "    if array[i]==find:\n",
    "        print(f\"Item {find} is in the index of {i}\")\n",
    "        break\n",
    "else:\n",
    "    print(\"Item not found\")"
   ]
  },
  {
   "cell_type": "markdown",
   "metadata": {},
   "source": [
    "# **Binary Search**"
   ]
  },
  {
   "cell_type": "code",
   "execution_count": null,
   "metadata": {},
   "outputs": [],
   "source": []
  }
 ],
 "metadata": {
  "kernelspec": {
   "display_name": ".venv",
   "language": "python",
   "name": "python3"
  },
  "language_info": {
   "codemirror_mode": {
    "name": "ipython",
    "version": 3
   },
   "file_extension": ".py",
   "mimetype": "text/x-python",
   "name": "python",
   "nbconvert_exporter": "python",
   "pygments_lexer": "ipython3",
   "version": "3.11.3"
  }
 },
 "nbformat": 4,
 "nbformat_minor": 2
}
